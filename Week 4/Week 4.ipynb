{
 "cells": [
  {
   "cell_type": "markdown",
   "id": "ccf08fbb",
   "metadata": {},
   "source": [
    "# Week 4\n",
    "\n",
    "The stock market continues to go down and so do our hopes of covering our loses.\n",
    "\n",
    "None the less, lets see what we can do in one week to try and gain a little bit of value for our account.\n",
    "\n",
    "Week 4 analysis is broken down as:\n",
    "\n",
    "1. Week 3 Review\n",
    "2. Week 4 S&P 500\n",
    "3. Week 4 yfinance\n",
    "4. Week 4 Buys"
   ]
  },
  {
   "cell_type": "markdown",
   "id": "1dbb8e1e",
   "metadata": {},
   "source": [
    "## Week 3 Review\n",
    "\n",
    "Even though our stocks have not been performing well, let's see what the experts recommend what our next move is.\n",
    "\n",
    "We will be going through yfinance to see their collection of expert recommendations for each of our week 3 stocks."
   ]
  },
  {
   "cell_type": "code",
   "execution_count": 1,
   "id": "784f5b6f",
   "metadata": {},
   "outputs": [
    {
     "name": "stdout",
     "output_type": "stream",
     "text": [
      "AAPL Counter({'Buy': 312, 'Outperform': 160, 'Overweight': 131, 'Neutral': 81, 'Hold': 40, 'Market Perform': 23, 'Equal-Weight': 21, 'Strong Buy': 8, 'Sell': 8, 'Sector Perform': 4, 'Positive': 4, '': 3, 'Market Outperform': 3, 'Sector Outperform': 2, 'Perform': 2, 'Sector Weight': 2, 'Long-term Buy': 1, 'Long-Term Buy': 1, 'Equal-weight': 1, 'Negative': 1, 'Reduce': 1, 'Underweight': 1, 'Underperform': 1, 'Peer Perform': 1})\n",
      "-----------------------------------------------------------------------------------------------------------------------------\n",
      "NKE Counter({'Buy': 155, 'Outperform': 64, 'Overweight': 60, 'Neutral': 56, 'Hold': 28, 'Market Perform': 13, 'Equal-Weight': 6, 'Positive': 6, 'Underperform': 4, 'Sell': 1, 'Strong Buy': 1, 'Perform': 1, 'Mixed': 1})\n",
      "-----------------------------------------------------------------------------------------------------------------------------\n",
      "LRCX Counter({'Buy': 103, 'Overweight': 47, 'Neutral': 30, 'Outperform': 21, 'Hold': 16, 'Equal-Weight': 14, 'Positive': 3, 'Market Perform': 3, 'Underperform': 2, 'Underweight': 2, 'Sector Perform': 2, 'Sell': 2, 'Strong Buy': 1, 'Sector Weight': 1, 'In-Line': 1})\n",
      "-----------------------------------------------------------------------------------------------------------------------------\n",
      "MCHP Counter({'Buy': 81, 'Overweight': 32, 'Neutral': 22, 'Equal-Weight': 19, 'Outperform': 13, 'Strong Buy': 9, 'Hold': 4, 'Positive': 4, 'Market Perform': 2, 'Sell': 1, 'Sector Weight': 1})\n",
      "-----------------------------------------------------------------------------------------------------------------------------\n",
      "TSLA Counter({'Neutral': 80, 'Buy': 76, 'Outperform': 44, 'Hold': 39, 'Underperform': 34, 'Sell': 30, 'Underweight': 30, 'Overweight': 29, 'Equal-Weight': 20, 'Sector Perform': 9, 'Market Perform': 8, 'Market Outperform': 8, '': 3, 'In-Line': 2, 'Perform': 1, 'Sector Weight': 1, 'Underperformer': 1, 'Peer Perform': 1})\n",
      "-----------------------------------------------------------------------------------------------------------------------------\n"
     ]
    }
   ],
   "source": [
    "from collections import Counter\n",
    "import pandas as pd\n",
    "import yfinance as yf\n",
    "\n",
    "week3_symbols = ['AAPL', 'NKE', 'LRCX', 'MCHP', 'TSLA']\n",
    "\n",
    "for symbol in week3_symbols:\n",
    "    \n",
    "    ticker = yf.Ticker(symbol)\n",
    "    recommendations = ticker.recommendations['To Grade']\n",
    "    counts = Counter()\n",
    "    for recommendation in recommendations:\n",
    "        if recommendation not in counts:\n",
    "            counts[recommendation] = 1\n",
    "        else:\n",
    "            counts[recommendation] += 1\n",
    "    print(symbol, counts)\n",
    "    print('-' * 125)"
   ]
  },
  {
   "cell_type": "markdown",
   "id": "b9aa2819",
   "metadata": {},
   "source": [
    "Our week 3 stocks are still highly recommended.\n",
    "\n",
    "The recommendations mostly say to buy with few saying to sell.\n",
    "\n",
    "We will hold onto our week 3 stocks."
   ]
  },
  {
   "cell_type": "markdown",
   "id": "2bf63431",
   "metadata": {},
   "source": [
    "## Week 4 S&P 500\n",
    "\n",
    "Lets see how the rest of the S&P 500 has been doing"
   ]
  },
  {
   "cell_type": "code",
   "execution_count": 2,
   "id": "58f7f47a",
   "metadata": {},
   "outputs": [
    {
     "name": "stdout",
     "output_type": "stream",
     "text": [
      "       #                    Company Symbol    Weight    Price    Chg     % Chg\n",
      "0      1                 Apple Inc.   AAPL  6.598226   165.05   3.21   (1.98%)\n",
      "1      2      Microsoft Corporation   MSFT  6.302013   326.20   3.19   (0.99%)\n",
      "2      3            Amazon.com Inc.   AMZN  3.833014  3428.36  38.57   (1.14%)\n",
      "3      4      Alphabet Inc. Class A  GOOGL  2.219982  2867.50  27.47   (0.97%)\n",
      "4      5                  Tesla Inc   TSLA  2.138181  1011.00  -3.97  (-0.39%)\n",
      "..   ...                        ...    ...       ...      ...    ...       ...\n",
      "500  501  Under Armour Inc. Class A    UAA  0.011608    23.98   0.51   (2.17%)\n",
      "501  502  Under Armour Inc. Class C     UA  0.010258    20.37   0.39   (1.95%)\n",
      "502  503     Discovery Inc. Class A  DISCA  0.010169    24.22   0.23   (0.96%)\n",
      "503  504                   Gap Inc.    GPS  0.009003    17.34   0.62   (3.71%)\n",
      "504  505   News Corporation Class B    NWS  0.007021    22.02   0.15   (0.69%)\n",
      "\n",
      "[505 rows x 7 columns]\n"
     ]
    }
   ],
   "source": [
    "import requests\n",
    "\n",
    "# Make a connection to slickcharts S&P 500 page\n",
    "url = 'https://www.slickcharts.com/sp500'\n",
    "headers = {'User-Agent': 'Mozilla/5.0 (Windows NT 10.0; Win64; x64) AppleWebKit/537.36 (KHTML, like Gecko) Chrome/96.0.4664.45 Safari/537.36'}\n",
    "request = requests.get(url, headers=headers)\n",
    "\n",
    "# Get the table of information\n",
    "html = request.content\n",
    "df_list = pd.read_html(html)\n",
    "week4_df = df_list[0]\n",
    "print(week4_df)"
   ]
  },
  {
   "cell_type": "code",
   "execution_count": 3,
   "id": "8413a71e",
   "metadata": {},
   "outputs": [
    {
     "name": "stdout",
     "output_type": "stream",
     "text": [
      "0       AAPL\n",
      "1       MSFT\n",
      "2       AMZN\n",
      "3      GOOGL\n",
      "4       TSLA\n",
      "       ...  \n",
      "500      UAA\n",
      "501       UA\n",
      "502    DISCA\n",
      "503      GPS\n",
      "504      NWS\n",
      "Name: Symbol, Length: 505, dtype: object\n"
     ]
    }
   ],
   "source": [
    "week4_symbols = week4_df['Symbol']\n",
    "print(week4_symbols)"
   ]
  },
  {
   "cell_type": "markdown",
   "id": "ed5b9904",
   "metadata": {},
   "source": [
    "## Week 4 yfinance\n",
    "\n",
    "We will use yfinance to analyze all of the S&P 500 stocks.\n",
    "\n",
    "Again, we will get expert recommendations to plan our next move."
   ]
  },
  {
   "cell_type": "code",
   "execution_count": 4,
   "id": "508b5a0b",
   "metadata": {},
   "outputs": [
    {
     "name": "stdout",
     "output_type": "stream",
     "text": [
      "50 stocks analyzed\n",
      "100 stocks analyzed\n",
      "150 stocks analyzed\n",
      "200 stocks analyzed\n",
      "250 stocks analyzed\n",
      "300 stocks analyzed\n",
      "350 stocks analyzed\n",
      "400 stocks analyzed\n",
      "450 stocks analyzed\n",
      "500 stocks analyzed\n"
     ]
    }
   ],
   "source": [
    "buy = Counter()\n",
    "for i, symbol in enumerate(week4_symbols):\n",
    "    ticker = yf.Ticker(symbol)\n",
    "    try:\n",
    "        recommendations = ticker.recommendations['To Grade']\n",
    "    except TypeError:\n",
    "        continue\n",
    "    counts = Counter()\n",
    "    for recommendation in recommendations:\n",
    "        if recommendation not in counts:\n",
    "            counts[recommendation] = 1\n",
    "        else:\n",
    "            counts[recommendation] += 1\n",
    "    buy[symbol] = counts['Buy']\n",
    "    if (i + 1) % 50 == 0:\n",
    "        print(i + 1, 'stocks analyzed')"
   ]
  },
  {
   "cell_type": "code",
   "execution_count": 5,
   "id": "eb462e47",
   "metadata": {},
   "outputs": [
    {
     "data": {
      "text/plain": [
       "[('AAPL', 312),\n",
       " ('FB', 267),\n",
       " ('GOOG', 225),\n",
       " ('AMZN', 203),\n",
       " ('NFLX', 149),\n",
       " ('NKE', 149),\n",
       " ('MU', 147),\n",
       " ('NVDA', 145),\n",
       " ('CRM', 134),\n",
       " ('AVGO', 134),\n",
       " ('INTC', 122),\n",
       " ('AMAT', 119),\n",
       " ('GOOGL', 117),\n",
       " ('WDC', 114),\n",
       " ('SWKS', 113),\n",
       " ('MSFT', 108),\n",
       " ('HAL', 108),\n",
       " ('QCOM', 107),\n",
       " ('ADBE', 106),\n",
       " ('TWTR', 103)]"
      ]
     },
     "execution_count": 5,
     "metadata": {},
     "output_type": "execute_result"
    }
   ],
   "source": [
    "buy.most_common(20)"
   ]
  },
  {
   "cell_type": "markdown",
   "id": "1ec6ebee",
   "metadata": {},
   "source": [
    "## Week 4 Buys\n",
    "\n",
    "Since we will not sell any of our stocks, we will have to buy some stocks.\n",
    "\n",
    "Since we already have AAPL stock we will buy the next 3 most recommended stocks:\n",
    "\n",
    "1. FB\n",
    "2. GOOG\n",
    "3. AMZN\n",
    "\n",
    "Each of these stocks comes highly recommended. They each have over 200 recommendations to buy."
   ]
  },
  {
   "cell_type": "code",
   "execution_count": null,
   "id": "02878195",
   "metadata": {},
   "outputs": [],
   "source": []
  }
 ],
 "metadata": {
  "kernelspec": {
   "display_name": "Python 3",
   "language": "python",
   "name": "python3"
  },
  "language_info": {
   "codemirror_mode": {
    "name": "ipython",
    "version": 3
   },
   "file_extension": ".py",
   "mimetype": "text/x-python",
   "name": "python",
   "nbconvert_exporter": "python",
   "pygments_lexer": "ipython3",
   "version": "3.8.8"
  }
 },
 "nbformat": 4,
 "nbformat_minor": 5
}
