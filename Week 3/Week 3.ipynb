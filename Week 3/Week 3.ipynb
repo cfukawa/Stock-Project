{
 "cells": [
  {
   "cell_type": "markdown",
   "id": "d1794ed4",
   "metadata": {},
   "source": [
    "# Week 3\n",
    "\n",
    "Unfortunately our stocks have not been performing well.\n",
    "\n",
    "This is because we rely heavily on the S&P 500 and it is not performing well lately.\n",
    "\n",
    "We will have to become more convservative with our approach because we cannot rely on risks paying off.\n",
    "\n",
    "This week's analysis is broken down as:\n",
    "\n",
    "1. Week 3 S&P 500\n",
    "2. Week 3 yfinance\n",
    "3. Week 3 Sales and Buys"
   ]
  },
  {
   "cell_type": "markdown",
   "id": "07386a47",
   "metadata": {},
   "source": [
    "## Week 3 S&P\n",
    "\n",
    "Lets try to see what is going wrong with the S&P 500.\n",
    "\n",
    "Hopefully we can find something to indicate what stocks to focus on."
   ]
  },
  {
   "cell_type": "code",
   "execution_count": 1,
   "id": "12f06975",
   "metadata": {},
   "outputs": [
    {
     "name": "stdout",
     "output_type": "stream",
     "text": [
      "       #                    Company Symbol    Weight    Price    Chg     % Chg\n",
      "0      1      Microsoft Corporation   MSFT  6.404100   333.25  -3.38  (-1.00%)\n",
      "1      2                 Apple Inc.   AAPL  6.370218   166.17   5.93   (3.70%)\n",
      "2      3            Amazon.com Inc.   AMZN  3.926914  3513.89 -47.68  (-1.34%)\n",
      "3      4                  Tesla Inc   TSLA  2.335565  1146.50   9.51   (0.84%)\n",
      "4      5      Alphabet Inc. Class A  GOOGL  2.218452  2854.00 -56.61  (-1.94%)\n",
      "..   ...                        ...    ...       ...      ...    ...       ...\n",
      "501  502  Under Armour Inc. Class C     UA  0.010481    20.07  -0.87  (-4.15%)\n",
      "502  503     Discovery Inc. Class A  DISCA  0.010161    23.40  -1.19  (-4.84%)\n",
      "503  504                   Gap Inc.    GPS  0.009343    16.65  -1.15  (-6.46%)\n",
      "504  505   News Corporation Class B    NWS  0.006848    21.60  -0.28  (-1.28%)\n",
      "505  506     Orion Office REIT Inc.    ONL  0.000009    17.79  -0.81  (-4.35%)\n",
      "\n",
      "[506 rows x 7 columns]\n"
     ]
    }
   ],
   "source": [
    "import pandas as pd\n",
    "import requests\n",
    "\n",
    "# Make a connection to slickcharts S&P 500 page\n",
    "url = 'https://www.slickcharts.com/sp500'\n",
    "headers = {'User-Agent': 'Mozilla/5.0 (Windows NT 10.0; Win64; x64) AppleWebKit/537.36 (KHTML, like Gecko) Chrome/96.0.4664.45 Safari/537.36'}\n",
    "request = requests.get(url, headers=headers)\n",
    "\n",
    "# Get the table of information\n",
    "html = request.content\n",
    "df_list = pd.read_html(html)\n",
    "week3_df = df_list[0]\n",
    "print(week3_df)"
   ]
  },
  {
   "cell_type": "code",
   "execution_count": 2,
   "id": "fc5acaa3",
   "metadata": {},
   "outputs": [
    {
     "name": "stdout",
     "output_type": "stream",
     "text": [
      "       #                            Company Symbol    Weight    Price   Chg  \\\n",
      "1      2                         Apple Inc.   AAPL  6.370218   166.17  5.93   \n",
      "3      4                          Tesla Inc   TSLA  2.335565  1146.50  9.51   \n",
      "18    19                        Pfizer Inc.    PFE  0.743787    53.90  1.50   \n",
      "33    34                  NIKE Inc. Class B    NKE  0.549829   170.94  1.07   \n",
      "45    46                   Merck & Co. Inc.    MRK  0.480030    76.37  1.48   \n",
      "87    88           Lam Research Corporation   LRCX  0.245597   684.14  3.60   \n",
      "170  171  Microchip Technology Incorporated   MCHP  0.117149    84.50  0.10   \n",
      "312  313               Delta Air Lines Inc.    DAL  0.058724    36.35  0.11   \n",
      "391  392  Bio-Rad Laboratories Inc. Class A    BIO  0.040789   753.20  3.64   \n",
      "456  457               DENTSPLY SIRONA Inc.   XRAY  0.026945    48.74  0.05   \n",
      "495  496          IPG Photonics Corporation   IPGP  0.014955   164.99  1.81   \n",
      "\n",
      "       % Chg  \n",
      "1    (3.70%)  \n",
      "3    (0.84%)  \n",
      "18   (2.86%)  \n",
      "33   (0.63%)  \n",
      "45   (1.98%)  \n",
      "87   (0.53%)  \n",
      "170  (0.12%)  \n",
      "312  (0.30%)  \n",
      "391  (0.49%)  \n",
      "456  (0.10%)  \n",
      "495  (1.11%)  \n",
      "11\n"
     ]
    }
   ],
   "source": [
    "week3_df.drop(week3_df[week3_df['Chg'] < 0].index, inplace = True)\n",
    "print(week3_df)\n",
    "print(len(week3_df))"
   ]
  },
  {
   "cell_type": "markdown",
   "id": "f89a0ad7",
   "metadata": {},
   "source": [
    "Wow! Only 11 stocks on the S&P 500 are gaining value. That is not good.\n",
    "\n",
    "At least we now know that we should focus on these 11 stocks which should not take a lot of time to analyze."
   ]
  },
  {
   "cell_type": "code",
   "execution_count": 3,
   "id": "ff91f7bc",
   "metadata": {},
   "outputs": [
    {
     "name": "stdout",
     "output_type": "stream",
     "text": [
      "1      AAPL\n",
      "3      TSLA\n",
      "18      PFE\n",
      "33      NKE\n",
      "45      MRK\n",
      "87     LRCX\n",
      "170    MCHP\n",
      "312     DAL\n",
      "391     BIO\n",
      "456    XRAY\n",
      "495    IPGP\n",
      "Name: Symbol, dtype: object\n"
     ]
    }
   ],
   "source": [
    "week3_symbols = week3_df['Symbol']\n",
    "print(week3_symbols)"
   ]
  },
  {
   "cell_type": "markdown",
   "id": "01c2c99a",
   "metadata": {},
   "source": [
    "# Week 3 yfinance\n",
    "\n",
    "This week we will use yfinance to only focus on the 11 targeted stocks.\n",
    "\n",
    "Since we need to be conservative with our buys, we will use the financial recommendations.\n",
    "\n",
    "We can count how many reviews are favorable to each stock, ones that recommend `buy`.\n",
    "\n",
    "It is not necesarrily a numerical analysis, but analysis by democracy, where financial analysists 'vote' for each stock."
   ]
  },
  {
   "cell_type": "code",
   "execution_count": 4,
   "id": "3c602039",
   "metadata": {},
   "outputs": [
    {
     "name": "stdout",
     "output_type": "stream",
     "text": [
      "AAPL analyzed\n",
      "TSLA analyzed\n",
      "PFE analyzed\n",
      "NKE analyzed\n",
      "MRK analyzed\n",
      "LRCX analyzed\n",
      "MCHP analyzed\n",
      "DAL analyzed\n",
      "BIO analyzed\n",
      "XRAY analyzed\n",
      "IPGP analyzed\n",
      "Counter({'AAPL': 312, 'NKE': 155, 'LRCX': 103, 'MCHP': 81, 'TSLA': 76, 'DAL': 59, 'PFE': 44, 'MRK': 42, 'IPGP': 23, 'XRAY': 19, 'BIO': 17})\n"
     ]
    }
   ],
   "source": [
    "from collections import Counter\n",
    "import yfinance as yf\n",
    "\n",
    "buy = Counter()\n",
    "\n",
    "for symbol in week3_symbols:\n",
    "    \n",
    "    ticker = yf.Ticker(symbol)\n",
    "    recommendations = ticker.recommendations['To Grade']\n",
    "    counts = Counter()\n",
    "    for recommendation in recommendations:\n",
    "        if recommendation not in counts:\n",
    "            counts[recommendation] = 1\n",
    "        else:\n",
    "            counts[recommendation] += 1\n",
    "    buy[symbol] = counts['Buy']\n",
    "    print(symbol, 'analyzed')\n",
    "\n",
    "print(buy)"
   ]
  },
  {
   "cell_type": "code",
   "execution_count": 5,
   "id": "cf184a52",
   "metadata": {},
   "outputs": [
    {
     "name": "stdout",
     "output_type": "stream",
     "text": [
      "AAPL 312\n",
      "NKE 155\n",
      "LRCX 103\n",
      "MCHP 81\n",
      "TSLA 76\n",
      "DAL 59\n",
      "PFE 44\n",
      "MRK 42\n",
      "IPGP 23\n",
      "XRAY 19\n",
      "BIO 17\n"
     ]
    }
   ],
   "source": [
    "for k, v in sorted(buy.items(), key=lambda pair: pair[1], reverse=True):\n",
    "    print(k, v)"
   ]
  },
  {
   "cell_type": "markdown",
   "id": "105b06af",
   "metadata": {},
   "source": [
    "As we can see, of the 11 targeted stocks, they are each recommended very differently.\n",
    "\n",
    "The top 5 look like they could be good to invest in. But you could do more or less."
   ]
  },
  {
   "cell_type": "markdown",
   "id": "fd447ae6",
   "metadata": {},
   "source": [
    "## Week 3 Sales & Buys\n",
    "\n",
    "Now we can look into buying theses stocks. But before that, lets eat our losses and sell what we have.\n",
    "\n",
    "We will sell:\n",
    "\n",
    "1. ANTM\n",
    "2. BKNG\n",
    "3. BLK\n",
    "4. GS\n",
    "5. HUM\n",
    "6. MA\n",
    "7. RE\n",
    "8. UNH\n",
    "\n",
    "Now lets buy the top 5 recommended stocks:\n",
    "\n",
    "1. AAPL\n",
    "2. NKE\n",
    "3. LRCX\n",
    "4. MCHP\n",
    "5. TSLA\n",
    "\n",
    "This weeks analysis is pretty short, but we have to change our investing strategy.\n",
    "\n",
    "We are halfway through this project and need to make enough gains to cover our previous losses."
   ]
  },
  {
   "cell_type": "code",
   "execution_count": null,
   "id": "2dfa47bd",
   "metadata": {},
   "outputs": [],
   "source": []
  }
 ],
 "metadata": {
  "kernelspec": {
   "display_name": "Python 3",
   "language": "python",
   "name": "python3"
  },
  "language_info": {
   "codemirror_mode": {
    "name": "ipython",
    "version": 3
   },
   "file_extension": ".py",
   "mimetype": "text/x-python",
   "name": "python",
   "nbconvert_exporter": "python",
   "pygments_lexer": "ipython3",
   "version": "3.8.8"
  }
 },
 "nbformat": 4,
 "nbformat_minor": 5
}
